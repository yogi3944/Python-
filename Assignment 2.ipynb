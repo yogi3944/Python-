{
 "cells": [
  {
   "cell_type": "code",
   "execution_count": 1,
   "id": "776f534b",
   "metadata": {},
   "outputs": [
    {
     "data": {
      "text/plain": [
       "'1.What are the two values of the Boolean data type? How do you write them?'"
      ]
     },
     "execution_count": 1,
     "metadata": {},
     "output_type": "execute_result"
    }
   ],
   "source": [
    "\"\"\"1.What are the two values of the Boolean data type? How do you write them?\"\"\""
   ]
  },
  {
   "cell_type": "code",
   "execution_count": 7,
   "id": "5667d99d",
   "metadata": {},
   "outputs": [
    {
     "data": {
      "text/plain": [
       "'1.Ans: True , False'"
      ]
     },
     "execution_count": 7,
     "metadata": {},
     "output_type": "execute_result"
    }
   ],
   "source": [
    "\"\"\"1.Ans: True , False\"\"\""
   ]
  },
  {
   "cell_type": "code",
   "execution_count": 4,
   "id": "4bd92246",
   "metadata": {},
   "outputs": [],
   "source": [
    "a=10\n",
    "b=20"
   ]
  },
  {
   "cell_type": "code",
   "execution_count": 5,
   "id": "4379b6f9",
   "metadata": {},
   "outputs": [
    {
     "data": {
      "text/plain": [
       "False"
      ]
     },
     "execution_count": 5,
     "metadata": {},
     "output_type": "execute_result"
    }
   ],
   "source": [
    "a>b"
   ]
  },
  {
   "cell_type": "code",
   "execution_count": 6,
   "id": "3ebf0de7",
   "metadata": {},
   "outputs": [
    {
     "data": {
      "text/plain": [
       "True"
      ]
     },
     "execution_count": 6,
     "metadata": {},
     "output_type": "execute_result"
    }
   ],
   "source": [
    "a<b"
   ]
  },
  {
   "cell_type": "code",
   "execution_count": 8,
   "id": "62a4ecff",
   "metadata": {},
   "outputs": [
    {
     "data": {
      "text/plain": [
       "'2. What are the three different types of Boolean operators?'"
      ]
     },
     "execution_count": 8,
     "metadata": {},
     "output_type": "execute_result"
    }
   ],
   "source": [
    "\"\"\"2. What are the three different types of Boolean operators?\"\"\""
   ]
  },
  {
   "cell_type": "code",
   "execution_count": 9,
   "id": "54c2f54f",
   "metadata": {},
   "outputs": [
    {
     "data": {
      "text/plain": [
       "'2.Ans: and,or,not'"
      ]
     },
     "execution_count": 9,
     "metadata": {},
     "output_type": "execute_result"
    }
   ],
   "source": [
    "\"\"\"2.Ans: and,or,not\"\"\""
   ]
  },
  {
   "cell_type": "code",
   "execution_count": 20,
   "id": "7bbde56d",
   "metadata": {},
   "outputs": [],
   "source": [
    "a=0\n",
    "b=20"
   ]
  },
  {
   "cell_type": "code",
   "execution_count": 24,
   "id": "b5a23bf1",
   "metadata": {},
   "outputs": [
    {
     "name": "stdout",
     "output_type": "stream",
     "text": [
      "any one boolean value false\n"
     ]
    }
   ],
   "source": [
    "if a and b:\n",
    "    print(\"both the boolean value true\")\n",
    "else:\n",
    "    print(\"any one boolean value false\")"
   ]
  },
  {
   "cell_type": "code",
   "execution_count": 25,
   "id": "86ed88d0",
   "metadata": {},
   "outputs": [
    {
     "name": "stdout",
     "output_type": "stream",
     "text": [
      "any one boolean vale true\n"
     ]
    }
   ],
   "source": [
    "if a or b:\n",
    "    print(\"any one boolean vale true\")\n",
    "else:\n",
    "    print(\"both boolean valuefalse\")"
   ]
  },
  {
   "cell_type": "code",
   "execution_count": 27,
   "id": "88185af4",
   "metadata": {},
   "outputs": [
    {
     "data": {
      "text/plain": [
       "True"
      ]
     },
     "execution_count": 27,
     "metadata": {},
     "output_type": "execute_result"
    }
   ],
   "source": [
    "not a"
   ]
  },
  {
   "cell_type": "code",
   "execution_count": 26,
   "id": "cf3c8a31",
   "metadata": {},
   "outputs": [
    {
     "data": {
      "text/plain": [
       "False"
      ]
     },
     "execution_count": 26,
     "metadata": {},
     "output_type": "execute_result"
    }
   ],
   "source": [
    "not b"
   ]
  },
  {
   "cell_type": "code",
   "execution_count": 28,
   "id": "20c3f85b",
   "metadata": {},
   "outputs": [
    {
     "data": {
      "text/plain": [
       "\"3. Make a list of each Boolean operator's truth tables (i.e. every possible combination of Boolean values for the operator and what it evaluate ).\""
      ]
     },
     "execution_count": 28,
     "metadata": {},
     "output_type": "execute_result"
    }
   ],
   "source": [
    "\"\"\"3. Make a list of each Boolean operator's truth tables (i.e. every possible combination of Boolean values for the operator and what it evaluate ).\"\"\""
   ]
  },
  {
   "cell_type": "code",
   "execution_count": 29,
   "id": "edc125f9",
   "metadata": {},
   "outputs": [
    {
     "data": {
      "text/plain": [
       "'3.Ans: AND operator\\n0 0 : 0\\n0 1 : 0\\n1 0 : 0\\n1 1 : 1\\n\\nOR operator\\n0 0 : 0\\n0 1 : 1\\n1 0 : 1\\n1 1 : 1\\n\\nNOT operator\\n0 : 1\\n1 : 0\\n'"
      ]
     },
     "execution_count": 29,
     "metadata": {},
     "output_type": "execute_result"
    }
   ],
   "source": [
    "\"\"\"3.Ans: AND operator\n",
    "0 0 : 0\n",
    "0 1 : 0\n",
    "1 0 : 0\n",
    "1 1 : 1\n",
    "\n",
    "OR operator\n",
    "0 0 : 0\n",
    "0 1 : 1\n",
    "1 0 : 1\n",
    "1 1 : 1\n",
    "\n",
    "NOT operator\n",
    "0 : 1\n",
    "1 : 0\n",
    "\"\"\""
   ]
  },
  {
   "cell_type": "code",
   "execution_count": 31,
   "id": "7dbce379",
   "metadata": {},
   "outputs": [
    {
     "data": {
      "text/plain": [
       "'4. What are the values of the following expressions?\\n(5 > 4) and (3 == 5)\\nnot (5 > 4)\\n(5 > 4) or (3 == 5)\\nnot ((5 > 4) or (3 == 5))\\n(True and True) and (True == False)\\n(not False) or (not True)\\n'"
      ]
     },
     "execution_count": 31,
     "metadata": {},
     "output_type": "execute_result"
    }
   ],
   "source": [
    "\"\"\"4. What are the values of the following expressions?\n",
    "(5 > 4) and (3 == 5)\n",
    "not (5 > 4)\n",
    "(5 > 4) or (3 == 5)\n",
    "not ((5 > 4) or (3 == 5))\n",
    "(True and True) and (True == False)\n",
    "(not False) or (not True)\n",
    "\"\"\""
   ]
  },
  {
   "cell_type": "code",
   "execution_count": 32,
   "id": "3cbd807e",
   "metadata": {},
   "outputs": [
    {
     "data": {
      "text/plain": [
       "False"
      ]
     },
     "execution_count": 32,
     "metadata": {},
     "output_type": "execute_result"
    }
   ],
   "source": [
    "(5 > 4) and (3 == 5)"
   ]
  },
  {
   "cell_type": "code",
   "execution_count": 33,
   "id": "64df6d9b",
   "metadata": {},
   "outputs": [
    {
     "data": {
      "text/plain": [
       "False"
      ]
     },
     "execution_count": 33,
     "metadata": {},
     "output_type": "execute_result"
    }
   ],
   "source": [
    "not (5 > 4)"
   ]
  },
  {
   "cell_type": "code",
   "execution_count": 34,
   "id": "67792f46",
   "metadata": {},
   "outputs": [
    {
     "data": {
      "text/plain": [
       "True"
      ]
     },
     "execution_count": 34,
     "metadata": {},
     "output_type": "execute_result"
    }
   ],
   "source": [
    "(5 > 4) or (3 == 5)"
   ]
  },
  {
   "cell_type": "code",
   "execution_count": 35,
   "id": "8b1848c0",
   "metadata": {},
   "outputs": [
    {
     "data": {
      "text/plain": [
       "False"
      ]
     },
     "execution_count": 35,
     "metadata": {},
     "output_type": "execute_result"
    }
   ],
   "source": [
    "not ((5 > 4) or (3 == 5))"
   ]
  },
  {
   "cell_type": "code",
   "execution_count": 36,
   "id": "a5eafc08",
   "metadata": {},
   "outputs": [
    {
     "data": {
      "text/plain": [
       "False"
      ]
     },
     "execution_count": 36,
     "metadata": {},
     "output_type": "execute_result"
    }
   ],
   "source": [
    "(True and True) and (True == False)"
   ]
  },
  {
   "cell_type": "code",
   "execution_count": 37,
   "id": "e4f447d8",
   "metadata": {},
   "outputs": [
    {
     "data": {
      "text/plain": [
       "True"
      ]
     },
     "execution_count": 37,
     "metadata": {},
     "output_type": "execute_result"
    }
   ],
   "source": [
    "(not False) or (not True)"
   ]
  },
  {
   "cell_type": "code",
   "execution_count": 38,
   "id": "2aa83866",
   "metadata": {},
   "outputs": [
    {
     "data": {
      "text/plain": [
       "'5. What are the six comparison operators?'"
      ]
     },
     "execution_count": 38,
     "metadata": {},
     "output_type": "execute_result"
    }
   ],
   "source": [
    "\"\"\"5. What are the six comparison operators?\"\"\""
   ]
  },
  {
   "cell_type": "code",
   "execution_count": 39,
   "id": "0fcb8904",
   "metadata": {},
   "outputs": [
    {
     "data": {
      "text/plain": [
       "'5.Ans: <, >, <=, >=, ==, !='"
      ]
     },
     "execution_count": 39,
     "metadata": {},
     "output_type": "execute_result"
    }
   ],
   "source": [
    "\"\"\"5.Ans: <, >, <=, >=, ==, !=\"\"\""
   ]
  },
  {
   "cell_type": "code",
   "execution_count": 41,
   "id": "d469fb50",
   "metadata": {},
   "outputs": [
    {
     "data": {
      "text/plain": [
       "'6. How do you tell the difference between the equal to and assignment operators?Describe a condition and when you would use one.'"
      ]
     },
     "execution_count": 41,
     "metadata": {},
     "output_type": "execute_result"
    }
   ],
   "source": [
    "\"\"\"6. How do you tell the difference between the equal to and assignment operators?Describe a condition and when you would use one.\"\"\"\n"
   ]
  },
  {
   "cell_type": "code",
   "execution_count": 44,
   "id": "63ef3dd8",
   "metadata": {},
   "outputs": [
    {
     "data": {
      "text/plain": [
       "'6.Ans: a=10 is assignment means 10 is assigned to a variable'"
      ]
     },
     "execution_count": 44,
     "metadata": {},
     "output_type": "execute_result"
    }
   ],
   "source": [
    "\"\"\"6.Ans: a=10 is assignment means 10 is assigned to a variable\"\"\""
   ]
  },
  {
   "cell_type": "code",
   "execution_count": 45,
   "id": "1350e4fa",
   "metadata": {},
   "outputs": [
    {
     "data": {
      "text/plain": [
       "True"
      ]
     },
     "execution_count": 45,
     "metadata": {},
     "output_type": "execute_result"
    }
   ],
   "source": [
    "a==10"
   ]
  },
  {
   "cell_type": "code",
   "execution_count": 46,
   "id": "0bb925d9",
   "metadata": {},
   "outputs": [
    {
     "data": {
      "text/plain": [
       "'== means you are checking variable a is equal to 10 or not based on that it will give true and false'"
      ]
     },
     "execution_count": 46,
     "metadata": {},
     "output_type": "execute_result"
    }
   ],
   "source": [
    "\"\"\"== means you are checking variable a is equal to 10 or not based on that it will give true and false\"\"\""
   ]
  },
  {
   "cell_type": "code",
   "execution_count": null,
   "id": "7e6734ae",
   "metadata": {},
   "outputs": [],
   "source": [
    "\"\"\"7. Identify the three blocks in this code:\n",
    "spam = 0\n",
    "if spam == 10:\n",
    "print('eggs')\n",
    "if spam > 5:\n",
    "print('bacon')\n",
    "else:\n",
    "print('ham')\n",
    "print('spam')\n",
    "print('spam')\n",
    "\"\"\""
   ]
  },
  {
   "cell_type": "code",
   "execution_count": 50,
   "id": "657757df",
   "metadata": {},
   "outputs": [
    {
     "data": {
      "text/plain": [
       "'1st block'"
      ]
     },
     "execution_count": 50,
     "metadata": {},
     "output_type": "execute_result"
    }
   ],
   "source": [
    "\"\"\"1st block\"\"\""
   ]
  },
  {
   "cell_type": "code",
   "execution_count": 51,
   "id": "0ef1ecc1",
   "metadata": {},
   "outputs": [],
   "source": [
    "spam = 0\n",
    "if spam == 10:\n",
    "    print('eggs')"
   ]
  },
  {
   "cell_type": "code",
   "execution_count": 52,
   "id": "5f5d7466",
   "metadata": {},
   "outputs": [
    {
     "data": {
      "text/plain": [
       "'2nd block'"
      ]
     },
     "execution_count": 52,
     "metadata": {},
     "output_type": "execute_result"
    }
   ],
   "source": [
    "\"\"\"2nd block and 3rd block\"\"\""
   ]
  },
  {
   "cell_type": "code",
   "execution_count": 61,
   "id": "a3cb3ae6",
   "metadata": {},
   "outputs": [
    {
     "name": "stdout",
     "output_type": "stream",
     "text": [
      "ham\n"
     ]
    }
   ],
   "source": [
    "if spam > 5:\n",
    "    print('bacon')\n",
    "else:\n",
    "    print(\"ham\")"
   ]
  },
  {
   "cell_type": "code",
   "execution_count": 62,
   "id": "0ec36b67",
   "metadata": {},
   "outputs": [
    {
     "data": {
      "text/plain": [
       "'block is change of indentation'"
      ]
     },
     "execution_count": 62,
     "metadata": {},
     "output_type": "execute_result"
    }
   ],
   "source": [
    "\"\"\"block is change of indentation\"\"\""
   ]
  },
  {
   "cell_type": "code",
   "execution_count": 63,
   "id": "cbd67072",
   "metadata": {},
   "outputs": [
    {
     "data": {
      "text/plain": [
       "'8. Write code that prints Hello if 1 is stored in spam, prints Howdy if 2 is stored in spam, and prints Greetings! if anything else is stored in spam.'"
      ]
     },
     "execution_count": 63,
     "metadata": {},
     "output_type": "execute_result"
    }
   ],
   "source": [
    "\"\"\"8. Write code that prints Hello if 1 is stored in spam, prints Howdy if 2 is stored in spam, and prints Greetings! if anything else is stored in spam.\"\n",
    "\"\""
   ]
  },
  {
   "cell_type": "code",
   "execution_count": 65,
   "id": "e89c8998",
   "metadata": {},
   "outputs": [
    {
     "name": "stdout",
     "output_type": "stream",
     "text": [
      "enter 1 or 2 or anything: 1\n",
      "Hello\n"
     ]
    }
   ],
   "source": [
    "spam = int(input(\"enter 1 or 2 or anything: \" ))\n",
    "\n",
    "if spam==1:\n",
    "    print(\"Hello\")\n",
    "    \n",
    "elif spam==2:\n",
    "    print(\"Howdy\")\n",
    "    \n",
    "else:\n",
    "    print(\"Greetings\")\n",
    "                 "
   ]
  },
  {
   "cell_type": "code",
   "execution_count": 66,
   "id": "5ac840a8",
   "metadata": {},
   "outputs": [
    {
     "name": "stdout",
     "output_type": "stream",
     "text": [
      "enter 1 or 2 or anything: 2\n",
      "Howdy\n"
     ]
    }
   ],
   "source": [
    "spam = int(input(\"enter 1 or 2 or anything: \" ))\n",
    "\n",
    "if spam==1:\n",
    "    print(\"Hello\")\n",
    "    \n",
    "elif spam==2:\n",
    "    print(\"Howdy\")\n",
    "    \n",
    "else:\n",
    "    print(\"Greetings\")"
   ]
  },
  {
   "cell_type": "code",
   "execution_count": 69,
   "id": "9a6787b9",
   "metadata": {},
   "outputs": [
    {
     "name": "stdout",
     "output_type": "stream",
     "text": [
      "enter 1 or 2 or anything: 34\n",
      "Greetings\n"
     ]
    }
   ],
   "source": [
    "spam = int(input(\"enter 1 or 2 or anything: \" ))\n",
    "\n",
    "if spam==1:\n",
    "    print(\"Hello\")\n",
    "    \n",
    "elif spam==2:\n",
    "    print(\"Howdy\")\n",
    "    \n",
    "else:\n",
    "    print(\"Greetings\")"
   ]
  },
  {
   "cell_type": "code",
   "execution_count": 70,
   "id": "38a4943b",
   "metadata": {},
   "outputs": [
    {
     "data": {
      "text/plain": [
       "'9.If your programme is stuck in an endless loop, what keys you’ll press?'"
      ]
     },
     "execution_count": 70,
     "metadata": {},
     "output_type": "execute_result"
    }
   ],
   "source": [
    "\"\"\"9.If your programme is stuck in an endless loop, what keys you’ll press?\"\"\""
   ]
  },
  {
   "cell_type": "code",
   "execution_count": 73,
   "id": "39f7f394",
   "metadata": {},
   "outputs": [
    {
     "data": {
      "text/plain": [
       "'in Macbook option command escape for force quit'"
      ]
     },
     "execution_count": 73,
     "metadata": {},
     "output_type": "execute_result"
    }
   ],
   "source": [
    "\"\"\"in Macbook option command escape for force quit\"\"\""
   ]
  },
  {
   "cell_type": "code",
   "execution_count": 74,
   "id": "fb1f754e",
   "metadata": {},
   "outputs": [
    {
     "data": {
      "text/plain": [
       "'10. How can you tell the difference between break and continue?'"
      ]
     },
     "execution_count": 74,
     "metadata": {},
     "output_type": "execute_result"
    }
   ],
   "source": [
    "\"\"\"10. How can you tell the difference between break and continue?\"\"\""
   ]
  },
  {
   "cell_type": "code",
   "execution_count": 79,
   "id": "147156e5",
   "metadata": {},
   "outputs": [
    {
     "name": "stdout",
     "output_type": "stream",
     "text": [
      "Hello\n",
      "Hello\n",
      "Hello\n",
      "Hello\n",
      "Hello\n"
     ]
    }
   ],
   "source": [
    "a=1\n",
    "while True:\n",
    "    if a>5:\n",
    "        break\n",
    "    print(\"Hello\")\n",
    "    a=a+1\n",
    "    "
   ]
  },
  {
   "cell_type": "code",
   "execution_count": 82,
   "id": "9b2a1df8",
   "metadata": {},
   "outputs": [
    {
     "name": "stdout",
     "output_type": "stream",
     "text": [
      "1\n",
      "2\n",
      "3\n",
      "4\n",
      "6\n",
      "7\n",
      "8\n",
      "9\n",
      "10\n"
     ]
    }
   ],
   "source": [
    "for i in range(1,11):\n",
    "    if i ==5:\n",
    "        continue\n",
    "    print(i)"
   ]
  },
  {
   "cell_type": "code",
   "execution_count": 83,
   "id": "4657e03b",
   "metadata": {},
   "outputs": [
    {
     "data": {
      "text/plain": [
       "'using break can go out of the loop\\n    using continue skip rest part in that loop and start from next loop'"
      ]
     },
     "execution_count": 83,
     "metadata": {},
     "output_type": "execute_result"
    }
   ],
   "source": [
    "\"\"\"using break can go out of the loop\n",
    "    using continue skip rest part in that loop and start from next loop\"\"\""
   ]
  },
  {
   "cell_type": "code",
   "execution_count": 84,
   "id": "ab33cfee",
   "metadata": {},
   "outputs": [
    {
     "data": {
      "text/plain": [
       "'11. In a for loop, what is the difference between range(10), range(0, 10), and range(0, 10, 1)?'"
      ]
     },
     "execution_count": 84,
     "metadata": {},
     "output_type": "execute_result"
    }
   ],
   "source": [
    "\"\"\"11. In a for loop, what is the difference between range(10), range(0, 10), and range(0, 10, 1)?\"\"\""
   ]
  },
  {
   "cell_type": "code",
   "execution_count": 85,
   "id": "0f3b1c9a",
   "metadata": {},
   "outputs": [
    {
     "name": "stdout",
     "output_type": "stream",
     "text": [
      "0\n",
      "1\n",
      "2\n",
      "3\n",
      "4\n",
      "5\n",
      "6\n",
      "7\n",
      "8\n",
      "9\n"
     ]
    }
   ],
   "source": [
    "for i in range(10):\n",
    "    print(i)"
   ]
  },
  {
   "cell_type": "code",
   "execution_count": 87,
   "id": "9c73ae48",
   "metadata": {},
   "outputs": [
    {
     "name": "stdout",
     "output_type": "stream",
     "text": [
      "0\n",
      "1\n",
      "2\n",
      "3\n",
      "4\n",
      "5\n",
      "6\n",
      "7\n",
      "8\n",
      "9\n"
     ]
    }
   ],
   "source": [
    "for i in range(0,10):\n",
    "    print(i)"
   ]
  },
  {
   "cell_type": "code",
   "execution_count": 88,
   "id": "a5f0c1c2",
   "metadata": {},
   "outputs": [
    {
     "name": "stdout",
     "output_type": "stream",
     "text": [
      "0\n",
      "1\n",
      "2\n",
      "3\n",
      "4\n",
      "5\n",
      "6\n",
      "7\n",
      "8\n",
      "9\n"
     ]
    }
   ],
   "source": [
    "for i in range(0,10,1):\n",
    "    print(i)"
   ]
  },
  {
   "cell_type": "code",
   "execution_count": 90,
   "id": "de31c13a",
   "metadata": {},
   "outputs": [
    {
     "data": {
      "text/plain": [
       "'all are same only'"
      ]
     },
     "execution_count": 90,
     "metadata": {},
     "output_type": "execute_result"
    }
   ],
   "source": [
    "\"\"\"all are same only\"\"\""
   ]
  },
  {
   "cell_type": "code",
   "execution_count": 92,
   "id": "44d0c195",
   "metadata": {},
   "outputs": [
    {
     "data": {
      "text/plain": [
       "'12. Write a short program that prints the numbers 1 to 10 using a for loop. Then write an equivalent program that prints the numbers 1 to 10 using a while loop.\\n'"
      ]
     },
     "execution_count": 92,
     "metadata": {},
     "output_type": "execute_result"
    }
   ],
   "source": [
    "\"\"\"12. Write a short program that prints the numbers 1 to 10 using a for loop. Then write an equivalent program that prints the numbers 1 to 10 using a while loop.\n",
    "\"\"\""
   ]
  },
  {
   "cell_type": "code",
   "execution_count": 94,
   "id": "1797337c",
   "metadata": {},
   "outputs": [
    {
     "name": "stdout",
     "output_type": "stream",
     "text": [
      "1\n",
      "2\n",
      "3\n",
      "4\n",
      "5\n",
      "6\n",
      "7\n",
      "8\n",
      "9\n",
      "10\n"
     ]
    }
   ],
   "source": [
    "for i in range(1,11):\n",
    "    print(i)"
   ]
  },
  {
   "cell_type": "code",
   "execution_count": 101,
   "id": "d544fd51",
   "metadata": {},
   "outputs": [
    {
     "name": "stdout",
     "output_type": "stream",
     "text": [
      "1\n",
      "2\n",
      "3\n",
      "4\n",
      "5\n",
      "6\n",
      "7\n",
      "8\n",
      "9\n",
      "10\n"
     ]
    }
   ],
   "source": [
    "i=1\n",
    "while i<=10:\n",
    "    print(i)\n",
    "    i=i+1"
   ]
  },
  {
   "cell_type": "code",
   "execution_count": 102,
   "id": "67de6b47",
   "metadata": {},
   "outputs": [
    {
     "data": {
      "text/plain": [
       "'13. If you had a function named bacon() inside a module named spam, how would you call it after importing spam?\\n'"
      ]
     },
     "execution_count": 102,
     "metadata": {},
     "output_type": "execute_result"
    }
   ],
   "source": [
    "\"\"\"13. If you had a function named bacon() inside a module named spam, how would you call it after importing spam?\n",
    "\"\"\""
   ]
  },
  {
   "cell_type": "code",
   "execution_count": 104,
   "id": "f31e1e75",
   "metadata": {},
   "outputs": [
    {
     "data": {
      "text/plain": [
       "'13. Ans: from spam import bacon'"
      ]
     },
     "execution_count": 104,
     "metadata": {},
     "output_type": "execute_result"
    }
   ],
   "source": [
    "\"\"\"13. Ans: from spam import bacon\"\"\""
   ]
  }
 ],
 "metadata": {
  "kernelspec": {
   "display_name": "Python 3",
   "language": "python",
   "name": "python3"
  },
  "language_info": {
   "codemirror_mode": {
    "name": "ipython",
    "version": 3
   },
   "file_extension": ".py",
   "mimetype": "text/x-python",
   "name": "python",
   "nbconvert_exporter": "python",
   "pygments_lexer": "ipython3",
   "version": "3.8.8"
  }
 },
 "nbformat": 4,
 "nbformat_minor": 5
}
