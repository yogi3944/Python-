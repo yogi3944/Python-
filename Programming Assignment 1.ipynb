{
 "cells": [
  {
   "cell_type": "code",
   "execution_count": 1,
   "id": "c2df013d",
   "metadata": {},
   "outputs": [
    {
     "data": {
      "text/plain": [
       "'1.1.\\tWrite a Python program to print \"Hello Python\"?'"
      ]
     },
     "execution_count": 1,
     "metadata": {},
     "output_type": "execute_result"
    }
   ],
   "source": [
    "\"\"\"1.\tWrite a Python program to print \"Hello Python\"?\"\"\""
   ]
  },
  {
   "cell_type": "code",
   "execution_count": 3,
   "id": "c6b2511d",
   "metadata": {},
   "outputs": [
    {
     "name": "stdout",
     "output_type": "stream",
     "text": [
      "Hello Python\n"
     ]
    }
   ],
   "source": [
    "print(\"Hello Python\")"
   ]
  },
  {
   "cell_type": "code",
   "execution_count": 4,
   "id": "fcf65c07",
   "metadata": {},
   "outputs": [
    {
     "data": {
      "text/plain": [
       "'2.\\tWrite a Python program to do arithmetical operations addition and division.?'"
      ]
     },
     "execution_count": 4,
     "metadata": {},
     "output_type": "execute_result"
    }
   ],
   "source": [
    "\"\"\"2.\tWrite a Python program to do arithmetical operations addition and division.?\"\"\""
   ]
  },
  {
   "cell_type": "code",
   "execution_count": 6,
   "id": "b01bfc24",
   "metadata": {},
   "outputs": [
    {
     "data": {
      "text/plain": [
       "5"
      ]
     },
     "execution_count": 6,
     "metadata": {},
     "output_type": "execute_result"
    }
   ],
   "source": [
    "2+3"
   ]
  },
  {
   "cell_type": "code",
   "execution_count": 7,
   "id": "d5fa0c02",
   "metadata": {},
   "outputs": [
    {
     "data": {
      "text/plain": [
       "4.5"
      ]
     },
     "execution_count": 7,
     "metadata": {},
     "output_type": "execute_result"
    }
   ],
   "source": [
    "9/2"
   ]
  },
  {
   "cell_type": "code",
   "execution_count": 8,
   "id": "2720c47e",
   "metadata": {},
   "outputs": [
    {
     "data": {
      "text/plain": [
       "'3.\\tWrite a Python program to find the area of a triangle?'"
      ]
     },
     "execution_count": 8,
     "metadata": {},
     "output_type": "execute_result"
    }
   ],
   "source": [
    "\"\"\"3.\tWrite a Python program to find the area of a triangle?\"\"\""
   ]
  },
  {
   "cell_type": "code",
   "execution_count": 10,
   "id": "4eaf185d",
   "metadata": {},
   "outputs": [
    {
     "name": "stdout",
     "output_type": "stream",
     "text": [
      "enter base of a triangle: 12\n",
      "enter height od a triangle: 6\n",
      "Area of Triangle is : 36.0\n"
     ]
    }
   ],
   "source": [
    "b=float(input(\"enter base of a triangle: \"))\n",
    "h=float(input(\"enter height od a triangle: \"))\n",
    "Area_Of_Triangle=.5*b*h\n",
    "print(\"Area of Triangle is :\",Area_Of_Triangle)"
   ]
  },
  {
   "cell_type": "code",
   "execution_count": 11,
   "id": "371cddc3",
   "metadata": {},
   "outputs": [
    {
     "data": {
      "text/plain": [
       "'4.\\tWrite a Python program to swap two variables?'"
      ]
     },
     "execution_count": 11,
     "metadata": {},
     "output_type": "execute_result"
    }
   ],
   "source": [
    "\"\"\"4.\tWrite a Python program to swap two variables?\"\"\""
   ]
  },
  {
   "cell_type": "code",
   "execution_count": 12,
   "id": "296facba",
   "metadata": {},
   "outputs": [
    {
     "name": "stdout",
     "output_type": "stream",
     "text": [
      "variable a is :  10\n",
      "variable b is :  20\n"
     ]
    }
   ],
   "source": [
    "a=10\n",
    "b=20\n",
    "print(\"variable a is : \",a)\n",
    "print(\"variable b is : \",b)"
   ]
  },
  {
   "cell_type": "code",
   "execution_count": 13,
   "id": "c9d3a947",
   "metadata": {},
   "outputs": [
    {
     "name": "stdout",
     "output_type": "stream",
     "text": [
      "variable a after swap is :  20\n",
      "variable b after swap is :  10\n"
     ]
    }
   ],
   "source": [
    "c=a\n",
    "a=b\n",
    "b=c\n",
    "print(\"variable a after swap is : \",a)\n",
    "print(\"variable b after swap is : \",b)"
   ]
  },
  {
   "cell_type": "code",
   "execution_count": 14,
   "id": "a3c169de",
   "metadata": {},
   "outputs": [
    {
     "data": {
      "text/plain": [
       "'5.\\tWrite a Python program to generate a random number?'"
      ]
     },
     "execution_count": 14,
     "metadata": {},
     "output_type": "execute_result"
    }
   ],
   "source": [
    "\"\"\"5.\tWrite a Python program to generate a random number?\"\"\""
   ]
  },
  {
   "cell_type": "code",
   "execution_count": 16,
   "id": "038c9cec",
   "metadata": {},
   "outputs": [],
   "source": [
    "import random"
   ]
  },
  {
   "cell_type": "code",
   "execution_count": 25,
   "id": "c25fb6c0",
   "metadata": {},
   "outputs": [
    {
     "name": "stdout",
     "output_type": "stream",
     "text": [
      "please enter minimum range : 23\n",
      "please enter maximum number : 666\n",
      "random number :  453\n"
     ]
    }
   ],
   "source": [
    "a=int(input(\"please enter minimum range : \"))\n",
    "b=int(input(\"please enter maximum number : \"))\n",
    "c=random.randint(a,b)\n",
    "print(\"random number : \",c)"
   ]
  },
  {
   "cell_type": "code",
   "execution_count": null,
   "id": "e63069f4",
   "metadata": {},
   "outputs": [],
   "source": []
  }
 ],
 "metadata": {
  "kernelspec": {
   "display_name": "Python 3",
   "language": "python",
   "name": "python3"
  },
  "language_info": {
   "codemirror_mode": {
    "name": "ipython",
    "version": 3
   },
   "file_extension": ".py",
   "mimetype": "text/x-python",
   "name": "python",
   "nbconvert_exporter": "python",
   "pygments_lexer": "ipython3",
   "version": "3.8.8"
  }
 },
 "nbformat": 4,
 "nbformat_minor": 5
}
