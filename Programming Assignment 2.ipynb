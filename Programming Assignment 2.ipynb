{
 "cells": [
  {
   "cell_type": "code",
   "execution_count": 1,
   "id": "3c4b7414",
   "metadata": {},
   "outputs": [
    {
     "data": {
      "text/plain": [
       "'1.\\tWrite a Python program to convert kilometers to miles?'"
      ]
     },
     "execution_count": 1,
     "metadata": {},
     "output_type": "execute_result"
    }
   ],
   "source": [
    "\"\"\"1.\tWrite a Python program to convert kilometers to miles?\"\"\""
   ]
  },
  {
   "cell_type": "code",
   "execution_count": 2,
   "id": "27964883",
   "metadata": {},
   "outputs": [
    {
     "name": "stdout",
     "output_type": "stream",
     "text": [
      "Enter value in kilometers: 10\n",
      "10.00 kilometer is equal to 6.20 miles\n"
     ]
    }
   ],
   "source": [
    "kilometer=float(input(\"Enter value in kilometers: \"))\n",
    "conv_fact=0.62\n",
    "miles=kilometer*conv_fact\n",
    "print(\"%.2f kilometer is equal to %.2f miles\" %(kilometer,miles))"
   ]
  },
  {
   "cell_type": "code",
   "execution_count": 3,
   "id": "b7272bc1",
   "metadata": {},
   "outputs": [
    {
     "data": {
      "text/plain": [
       "'2.\\tWrite a Python program to convert Celsius to Fahrenheit?'"
      ]
     },
     "execution_count": 3,
     "metadata": {},
     "output_type": "execute_result"
    }
   ],
   "source": [
    "\"\"\"2.\tWrite a Python program to convert Celsius to Fahrenheit?\"\"\""
   ]
  },
  {
   "cell_type": "code",
   "execution_count": 6,
   "id": "ad0d9789",
   "metadata": {},
   "outputs": [
    {
     "name": "stdout",
     "output_type": "stream",
     "text": [
      "Enter value in Celsius : 37.5\n",
      "37.50 Celsius is equal to 99.50 Fahrenheit\n"
     ]
    }
   ],
   "source": [
    "Celsius =float(input(\"Enter value in Celsius : \"))\n",
    "Fahrenheit = (Celsius * 1.8) + 32\n",
    "print(\"%.2f Celsius is equal to %.2f Fahrenheit\" %(Celsius,Fahrenheit))"
   ]
  },
  {
   "cell_type": "code",
   "execution_count": 7,
   "id": "a025e8d6",
   "metadata": {},
   "outputs": [
    {
     "data": {
      "text/plain": [
       "'3.\\tWrite a Python program to display calendar?'"
      ]
     },
     "execution_count": 7,
     "metadata": {},
     "output_type": "execute_result"
    }
   ],
   "source": [
    "\"\"\"3.\tWrite a Python program to display calendar?\"\"\""
   ]
  },
  {
   "cell_type": "code",
   "execution_count": 10,
   "id": "3cb60262",
   "metadata": {},
   "outputs": [
    {
     "name": "stdout",
     "output_type": "stream",
     "text": [
      "Enter year : 2022\n",
      "Enter month2\n",
      "   February 2022\n",
      "Mo Tu We Th Fr Sa Su\n",
      "    1  2  3  4  5  6\n",
      " 7  8  9 10 11 12 13\n",
      "14 15 16 17 18 19 20\n",
      "21 22 23 24 25 26 27\n",
      "28\n",
      "\n"
     ]
    }
   ],
   "source": [
    "import calendar\n",
    "year=int(input(\"Enter year : \"))\n",
    "month=int(input(\"Enter month\"))\n",
    "print(calendar.month(year,month))"
   ]
  },
  {
   "cell_type": "code",
   "execution_count": 11,
   "id": "db12e086",
   "metadata": {},
   "outputs": [
    {
     "data": {
      "text/plain": [
       "'4.\\tWrite a Python program to solve quadratic equation?'"
      ]
     },
     "execution_count": 11,
     "metadata": {},
     "output_type": "execute_result"
    }
   ],
   "source": [
    "\"\"\"4.\tWrite a Python program to solve quadratic equation?\"\"\""
   ]
  },
  {
   "cell_type": "code",
   "execution_count": 12,
   "id": "4d8e43c6",
   "metadata": {},
   "outputs": [],
   "source": [
    "import cmath"
   ]
  },
  {
   "cell_type": "code",
   "execution_count": 19,
   "id": "c09f7e21",
   "metadata": {},
   "outputs": [
    {
     "name": "stdout",
     "output_type": "stream",
     "text": [
      "Enter value of a : 1\n",
      "Enter value of b : 5\n",
      "Enter value of c : 0\n",
      "solution of quadratic equation are (-5+0j) and 0j\n"
     ]
    }
   ],
   "source": [
    "a=int(input(\"Enter value of a : \"))\n",
    "b=int(input(\"Enter value of b : \"))\n",
    "c=int(input(\"Enter value of c : \"))\n",
    "d = (b**2) - (4*a*c)\n",
    "ans1 = (-b-cmath.sqrt(d))/(2*a)\n",
    "ans2 = (-b+cmath.sqrt(d))/(2*a)\n",
    "print(\"solution of quadratic equation are {} and {}\".format(ans1,ans2))"
   ]
  },
  {
   "cell_type": "code",
   "execution_count": 20,
   "id": "991ee3ca",
   "metadata": {},
   "outputs": [
    {
     "data": {
      "text/plain": [
       "'5.\\tWrite a Python program to swap two variables without temp variable?'"
      ]
     },
     "execution_count": 20,
     "metadata": {},
     "output_type": "execute_result"
    }
   ],
   "source": [
    "\"\"\"5.\tWrite a Python program to swap two variables without temp variable?\"\"\""
   ]
  },
  {
   "cell_type": "code",
   "execution_count": 48,
   "id": "ce770d1d",
   "metadata": {},
   "outputs": [
    {
     "name": "stdout",
     "output_type": "stream",
     "text": [
      "Enter variable a : 2\n",
      "Enter variable b : 4\n",
      "variable a is 2 and variable b is 4\n",
      "variable a is 4 and variable b is 2\n"
     ]
    }
   ],
   "source": [
    "#Method 1\n",
    "a=int(input(\"Enter variable a : \"))\n",
    "b=int(input(\"Enter variable b : \"))\n",
    "print(\"variable a is {} and variable b is {}\".format(a,b))\n",
    "\n",
    "def swap(b,a):\n",
    "    return a,b\n",
    "\n",
    "swap(a,b)\n",
    "print(\"variable a is {} and variable b is {}\".format(b,a))\n",
    "\n"
   ]
  },
  {
   "cell_type": "code",
   "execution_count": 53,
   "id": "687ec80b",
   "metadata": {},
   "outputs": [
    {
     "name": "stdout",
     "output_type": "stream",
     "text": [
      "Enter variable a : 3\n",
      "Enter variable b : 5\n",
      "variable a is 3 and variable b is 5\n",
      "variable a is 5 and variable b is 3\n"
     ]
    }
   ],
   "source": [
    "#method 2\n",
    "a=int(input(\"Enter variable a : \"))\n",
    "b=int(input(\"Enter variable b : \"))\n",
    "print(\"variable a is {} and variable b is {}\".format(a,b))\n",
    "a,b=b,a\n",
    "print(\"variable a is {} and variable b is {}\".format(a,b))"
   ]
  },
  {
   "cell_type": "code",
   "execution_count": null,
   "id": "c60af552",
   "metadata": {},
   "outputs": [],
   "source": []
  },
  {
   "cell_type": "code",
   "execution_count": null,
   "id": "d9faf669",
   "metadata": {},
   "outputs": [],
   "source": []
  },
  {
   "cell_type": "code",
   "execution_count": null,
   "id": "c692330b",
   "metadata": {},
   "outputs": [],
   "source": []
  },
  {
   "cell_type": "code",
   "execution_count": null,
   "id": "7fa4e47b",
   "metadata": {},
   "outputs": [],
   "source": []
  },
  {
   "cell_type": "code",
   "execution_count": null,
   "id": "d3bb0e8f",
   "metadata": {},
   "outputs": [],
   "source": []
  }
 ],
 "metadata": {
  "kernelspec": {
   "display_name": "Python 3",
   "language": "python",
   "name": "python3"
  },
  "language_info": {
   "codemirror_mode": {
    "name": "ipython",
    "version": 3
   },
   "file_extension": ".py",
   "mimetype": "text/x-python",
   "name": "python",
   "nbconvert_exporter": "python",
   "pygments_lexer": "ipython3",
   "version": "3.8.8"
  }
 },
 "nbformat": 4,
 "nbformat_minor": 5
}
